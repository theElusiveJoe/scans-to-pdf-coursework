{
 "cells": [
  {
   "cell_type": "code",
   "execution_count": null,
   "outputs": [],
   "source": [
    "import config\n",
    "import os\n",
    "os.chdir(config.PROJECT_ROOT_PATH)\n",
    "\n",
    "import torch\n",
    "from torchvision.utils import draw_segmentation_masks\n",
    "import matplotlib.pyplot as plt\n",
    "import torch.nn.functional as F\n",
    "import torchvision.transforms.functional as tvF\n",
    "\n",
    "from src.unet import dataset, loss, unet, unet2\n",
    "\n",
    "import GPUtil\n",
    "\n",
    "import numpy as np\n",
    "import skimage.measure\n",
    "from PIL import Image\n",
    "import cv2\n",
    "from pytesseract import pytesseract\n",
    "\n",
    "pytesseract.tesseract_cmd = r'/usr/bin/tesseract'\n",
    "!export TESSDATA_PREFIX= / usr / local / share /\n",
    "\n",
    "import warnings\n",
    "warnings.filterwarnings('ignore')"
   ],
   "metadata": {
    "collapsed": false
   }
  },
  {
   "cell_type": "code",
   "execution_count": null,
   "outputs": [],
   "source": [
    "# !sudo rmmod nvidia_uvm\n",
    "# !sudo modprobe nvidia_uvm"
   ],
   "metadata": {
    "collapsed": false
   }
  },
  {
   "cell_type": "code",
   "execution_count": null,
   "outputs": [],
   "source": [
    "# для отрисовки тензоров в полном размере :)\n",
    "# torch.set_printoptions(profile=\"full\")\n",
    "# torch.set_printoptions(linewidth=500)"
   ],
   "metadata": {
    "collapsed": false
   }
  },
  {
   "cell_type": "code",
   "execution_count": null,
   "outputs": [],
   "source": [
    "device = torch.device(\"cuda\" if torch.cuda.is_available() else \"cpu\")\n",
    "device"
   ],
   "metadata": {
    "collapsed": false
   }
  },
  {
   "cell_type": "markdown",
   "source": [
    "#### Отрисовка результатов"
   ],
   "metadata": {
    "collapsed": false
   }
  },
  {
   "cell_type": "code",
   "execution_count": null,
   "outputs": [],
   "source": [
    "def plot_many(imgs):\n",
    "    if not isinstance(imgs, list):\n",
    "        imgs = [imgs]\n",
    "    fig, axs = plt.subplots(ncols=len(imgs), squeeze=False)\n",
    "    for i, img in enumerate(imgs):\n",
    "        img = img.detach()\n",
    "        img = tvF.to_pil_image(img)\n",
    "        axs[0, i].imshow(np.asarray(img))\n",
    "        axs[0, i].set(xticklabels=[], yticklabels=[], xticks=[], yticks=[])\n",
    "\n",
    "\n",
    "def triple_pic(x):\n",
    "    ret = torch.cat([x * 255] * 3).to(dtype=torch.uint8)\n",
    "    return ret"
   ],
   "metadata": {
    "collapsed": false
   }
  },
  {
   "cell_type": "markdown",
   "source": [
    "#### Тренировочный цикл"
   ],
   "metadata": {
    "collapsed": false
   }
  },
  {
   "cell_type": "code",
   "execution_count": null,
   "outputs": [],
   "source": [
    "def train_model(model, criterion, optimizer, dataloaders, n_epochs, epoch_size=100000):\n",
    "    train_dataloader, valid_dataloader = dataloaders['train'], dataloaders['valid']\n",
    "\n",
    "    results = {\n",
    "        'train': [],\n",
    "        'valid': []\n",
    "    }\n",
    "\n",
    "    for epoch in range(1, n_epochs + 1):\n",
    "        GPUtil.showUtilization()\n",
    "        print(f'EPOCH {epoch} STARTED')\n",
    "        # training\n",
    "        model.train()\n",
    "        train_losses = []\n",
    "        for batch_i, (x, y) in enumerate(train_dataloader):\n",
    "            x = x.to(device)\n",
    "            y = y.to(device)\n",
    "            pred_mask = model(x)\n",
    "            loss = criterion(pred_mask, y)\n",
    "            print('epoch:', epoch, 'train batch', batch_i, 'loss:', loss.item())\n",
    "            train_losses.append(loss.item())\n",
    "            optimizer.zero_grad()\n",
    "            loss.backward()\n",
    "            optimizer.step()\n",
    "            if batch_i == epoch_size:\n",
    "                break\n",
    "\n",
    "        # testing\n",
    "        model.eval()\n",
    "        valid_losses = []\n",
    "        for batch_i, (x, y) in enumerate(valid_dataloader):\n",
    "            x = x.to(device)\n",
    "            y = y.to(device)\n",
    "            with torch.no_grad():\n",
    "                pred_mask = model(x)\n",
    "                loss = criterion(pred_mask, y)\n",
    "                print('epoch:', epoch, 'valid batch', batch_i, 'loss:', loss.item())\n",
    "            valid_losses.append(loss.item())\n",
    "            if batch_i >= epoch_size*0.2:\n",
    "                break\n",
    "\n",
    "        # draw_results(x,pred_mask)\n",
    "\n",
    "        results['train'].append(np.mean(train_losses))\n",
    "        results['valid'].append(np.mean(valid_losses))\n",
    "        print(results['train'][-1], results['valid'][-1])\n",
    "\n",
    "        # torch.save(model.state_dict(), f'model_states/epoch_{epoch}_state.st')\n",
    "    return results, model"
   ],
   "metadata": {
    "collapsed": false
   }
  },
  {
   "cell_type": "markdown",
   "source": [
    "### Создание и обучение модельки"
   ],
   "metadata": {
    "collapsed": false
   }
  },
  {
   "cell_type": "code",
   "execution_count": null,
   "outputs": [],
   "source": [
    "RESIZE = 512\n",
    "# -1, если нужно использовать все возможные картинки\n",
    "MAX_IMAGES_NUM = -1\n",
    "N_EPOCHS = 10\n",
    "BATCH_SIZE = 1\n",
    "EPOCH_SIZE = 30\n",
    "\n",
    "dataset_params = {\n",
    "    'resize':RESIZE,\n",
    "    'batch_size':BATCH_SIZE,\n",
    "    'datadir':config.DATA_PATH,\n",
    "    'classes_list':config.CLASSES_LIST,\n",
    "    'class_num_mapping':config.NUMS_CLASSES,\n",
    "    'orig_class_name':config.ORIG_CLASS_NAME,\n",
    "    'max_images':MAX_IMAGES_NUM,\n",
    "}"
   ],
   "metadata": {
    "collapsed": false
   }
  },
  {
   "cell_type": "code",
   "execution_count": null,
   "outputs": [],
   "source": [
    "torch.cuda.empty_cache()\n",
    "GPUtil.showUtilization()\n",
    "\n",
    "dataloaders = dataset.create_dataloaders(\n",
    "    **dataset_params\n",
    ")\n",
    "\n",
    "model = unet2.UNet2(len(config.CLASSES_LIST))\n",
    "model.to(device)\n",
    "\n",
    "criterion = loss.JaccardLoss('multiclass')\n",
    "optimizer = torch.optim.Adam(model.parameters(), lr=1e-3)"
   ],
   "metadata": {
    "collapsed": false
   }
  },
  {
   "cell_type": "code",
   "execution_count": null,
   "outputs": [],
   "source": [
    "results, model = train_model(model, criterion, optimizer, dataloaders, n_epochs=N_EPOCHS, epoch_size=EPOCH_SIZE)\n",
    "\n",
    "torch.cuda.empty_cache()\n",
    "GPUtil.showUtilization()"
   ],
   "metadata": {
    "collapsed": false
   }
  },
  {
   "cell_type": "code",
   "execution_count": null,
   "outputs": [],
   "source": [
    "!ls model_states\n",
    "# !mkdir model_states\n",
    "!rm model_states/*\n",
    "torch.save(model.state_dict(), 'model_states/model_state.st')\n",
    "# model = unet2.UNet2(3)\n",
    "# # model.to(device)\n",
    "# model.load_state_dict(torch.load('/home/f/Programming/projects/scans_to_pdf_cg_cv/model_states/model_state.st',\n",
    "#                                  map_location=torch.device('cpu')))\n",
    "# model.eval()"
   ],
   "metadata": {
    "collapsed": false
   }
  },
  {
   "cell_type": "markdown",
   "source": [
    "### Тест"
   ],
   "metadata": {
    "collapsed": false
   }
  },
  {
   "cell_type": "code",
   "execution_count": null,
   "outputs": [],
   "source": [
    "loader = dataset.create_dataloaders(**dataset_params)['train']"
   ],
   "metadata": {
    "collapsed": false
   }
  },
  {
   "cell_type": "code",
   "execution_count": null,
   "outputs": [],
   "source": [
    "def process_prediction(t):\n",
    "    t = t[0]\n",
    "    t = t.softmax(dim=0)\n",
    "    t = t.argmax(dim=0)\n",
    "    t = F.one_hot(t)\n",
    "    t = t.transpose(0, 2).transpose(2, 1)\n",
    "    t = t.bool()\n",
    "    return t\n",
    "\n",
    "\n",
    "def process_input(x):\n",
    "    return x[0]\n",
    "\n",
    "def process_input_and_prediction(x, t):\n",
    "    x = process_input(x)\n",
    "    t = process_prediction(t)\n",
    "    x, t = x.to('cpu'), t.to('cpu')\n",
    "    return x, t\n",
    "\n",
    "\n",
    "\n",
    "x, _ = iter(loader).__next__()\n",
    "x = x.to('cpu')\n",
    "model = model.to('cpu')\n",
    "with torch.no_grad():\n",
    "    t = model(x)\n",
    "\n",
    "x,t = process_input_and_prediction(x,t)\n",
    "plot_many(draw_segmentation_masks(triple_pic(x), masks=t, alpha=0.7))"
   ],
   "metadata": {
    "collapsed": false
   }
  },
  {
   "cell_type": "markdown",
   "source": [
    "\n",
    "маску каждого класса разбираем на компоненты"
   ],
   "metadata": {
    "collapsed": false
   }
  },
  {
   "cell_type": "code",
   "execution_count": null,
   "outputs": [],
   "source": [
    "plt.figure(figsize=(13, 13))\n",
    "\n",
    "l = len(t)\n",
    "for i, x in enumerate(t):\n",
    "    t_map = t[i].numpy()\n",
    "    lables0 = skimage.measure.label(t_map)\n",
    "    plt.subplot(1*100 + l*10 + i+1)\n",
    "    plt.imshow(lables0, cmap='summer')\n",
    "    plt.axis('off')\n",
    "\n",
    "plt.tight_layout()\n",
    "plt.show()"
   ],
   "metadata": {
    "collapsed": false
   }
  },
  {
   "cell_type": "code",
   "execution_count": null,
   "outputs": [],
   "source": [
    "def get_masks_of_each_component(t, draw=False):\n",
    "    t = t.to('cpu')\n",
    "\n",
    "    masks = dict()\n",
    "    for class_num in range(t.shape[0]):\n",
    "        if class_num == 0:\n",
    "            continue\n",
    "        t_class_map = t[class_num].numpy()\n",
    "        components = skimage.measure.label(t_class_map)\n",
    "        components_nums = np.unique(components)\n",
    "        masks[class_num] = list()\n",
    "        for cn in components_nums:\n",
    "            if cn == 0:\n",
    "                continue\n",
    "            masks[class_num].append(\n",
    "                (lambda x: x != cn)(components.copy())\n",
    "            )\n",
    "\n",
    "        if draw:\n",
    "            print(components_nums)\n",
    "            plt.figure(figsize=(13, 13))\n",
    "            plt.subplot(131)\n",
    "            plt.imshow(components, cmap='summer')\n",
    "            plt.axis('off')\n",
    "            plt.tight_layout()\n",
    "            plt.show()\n",
    "\n",
    "    return masks\n",
    "\n",
    "\n",
    "masks = get_masks_of_each_component(t)\n",
    "test_mask = masks[1][3]"
   ],
   "metadata": {
    "collapsed": false
   }
  },
  {
   "cell_type": "code",
   "execution_count": null,
   "outputs": [],
   "source": [
    "def apply_mask_to_image(image, mask, draw=False):\n",
    "    image = image[0].to('cpu').numpy()\n",
    "    print(image.shape, mask.shape)\n",
    "    masked = np.ma.masked_array(image, mask)\n",
    "    masked = np.array(masked.filled(1))\n",
    "    print(masked)\n",
    "    if draw:\n",
    "        plt.imshow(masked, cmap='gray')\n",
    "    print(image.shape, mask.shape)\n",
    "    return np.uint8(masked * 255)\n",
    "\n",
    "masked_image = apply_mask_to_image(x, test_mask)\n",
    "plt.imshow(masked_image, cmap='gray')"
   ],
   "metadata": {
    "collapsed": false
   }
  },
  {
   "cell_type": "code",
   "execution_count": null,
   "outputs": [],
   "source": [
    "def extract_text_from_image(image):\n",
    "    image = Image.fromarray(image, 'L')\n",
    "    text = pytesseract.image_to_string(image, lang='eng')\n",
    "    return text\n",
    "\n",
    "\n",
    "# text = extract_text_from_image(masked_image)\n",
    "# print(text)\n",
    "x_np = np.uint8(x.numpy()[0]*255)\n",
    "print(x_np.shape)\n",
    "x_img = Image.fromarray(x_np, 'L')\n",
    "x_img.show()\n",
    "text = pytesseract.image_to_string(x_img, lang='eng')\n",
    "print(text)"
   ],
   "metadata": {
    "collapsed": false
   }
  },
  {
   "cell_type": "code",
   "execution_count": null,
   "outputs": [],
   "source": [],
   "metadata": {
    "collapsed": false
   }
  }
 ],
 "metadata": {
  "kernelspec": {
   "display_name": "Python 3",
   "language": "python",
   "name": "python3"
  },
  "language_info": {
   "codemirror_mode": {
    "name": "ipython",
    "version": 2
   },
   "file_extension": ".py",
   "mimetype": "text/x-python",
   "name": "python",
   "nbconvert_exporter": "python",
   "pygments_lexer": "ipython2",
   "version": "2.7.6"
  }
 },
 "nbformat": 4,
 "nbformat_minor": 0
}
